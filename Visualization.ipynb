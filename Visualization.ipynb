{
 "cells": [
  {
   "cell_type": "markdown",
   "id": "c91a8913",
   "metadata": {},
   "source": [
    "## Data Visualization"
   ]
  },
  {
   "cell_type": "code",
   "execution_count": 1,
   "id": "ea28232a",
   "metadata": {},
   "outputs": [],
   "source": [
    "# First of all, we import the necessary libraries.\n",
    "import seaborn as sns\n",
    "import matplotlib.pyplot as plt\n",
    "import pandas as pd"
   ]
  },
  {
   "cell_type": "code",
   "execution_count": 2,
   "id": "5050ee44",
   "metadata": {},
   "outputs": [],
   "source": [
    "# Configure how we want the graphics to be displayed.\n",
    "%matplotlib inline\n",
    "%config Inlinebackend.figure_format= 'retina'"
   ]
  },
  {
   "cell_type": "code",
   "execution_count": 3,
   "id": "7a900c16",
   "metadata": {},
   "outputs": [],
   "source": [
    "sns.set_context(\"poster\")\n",
    "sns.set(rc={\"figure.figsize\": (15.,8.)})\n",
    "sns.set_style(\"whitegrid\")"
   ]
  },
  {
   "cell_type": "code",
   "execution_count": 4,
   "id": "d857be6b",
   "metadata": {},
   "outputs": [
    {
     "data": {
      "text/plain": [
       "'/Users/awalsh/IRONHACK/PROYECTOS/Data-cleaning-Pandas'"
      ]
     },
     "execution_count": 4,
     "metadata": {},
     "output_type": "execute_result"
    }
   ],
   "source": [
    "pwd!"
   ]
  },
  {
   "cell_type": "code",
   "execution_count": 5,
   "id": "92e9c08b",
   "metadata": {},
   "outputs": [],
   "source": [
    "#Import DataFrame\n",
    "df2 = pd.read_csv('data/clean_df2.csv', encoding = \"ISO-8859-1\")"
   ]
  },
  {
   "cell_type": "code",
   "execution_count": 6,
   "id": "5541a0e2",
   "metadata": {},
   "outputs": [
    {
     "data": {
      "text/html": [
       "<div>\n",
       "<style scoped>\n",
       "    .dataframe tbody tr th:only-of-type {\n",
       "        vertical-align: middle;\n",
       "    }\n",
       "\n",
       "    .dataframe tbody tr th {\n",
       "        vertical-align: top;\n",
       "    }\n",
       "\n",
       "    .dataframe thead th {\n",
       "        text-align: right;\n",
       "    }\n",
       "</style>\n",
       "<table border=\"1\" class=\"dataframe\">\n",
       "  <thead>\n",
       "    <tr style=\"text-align: right;\">\n",
       "      <th></th>\n",
       "      <th>Unnamed: 0</th>\n",
       "      <th>Year</th>\n",
       "      <th>Continent</th>\n",
       "      <th>Activity</th>\n",
       "      <th>Sex</th>\n",
       "      <th>Age</th>\n",
       "      <th>Fatal(Y/N)</th>\n",
       "      <th>Time</th>\n",
       "      <th>Species</th>\n",
       "    </tr>\n",
       "  </thead>\n",
       "  <tbody>\n",
       "    <tr>\n",
       "      <th>0</th>\n",
       "      <td>0</td>\n",
       "      <td>2018</td>\n",
       "      <td>North America</td>\n",
       "      <td>Other</td>\n",
       "      <td>F</td>\n",
       "      <td>57</td>\n",
       "      <td>N</td>\n",
       "      <td>18h00</td>\n",
       "      <td>White</td>\n",
       "    </tr>\n",
       "    <tr>\n",
       "      <th>1</th>\n",
       "      <td>1</td>\n",
       "      <td>2018</td>\n",
       "      <td>North America</td>\n",
       "      <td>Other</td>\n",
       "      <td>F</td>\n",
       "      <td>11</td>\n",
       "      <td>N</td>\n",
       "      <td>14h00  -15h00</td>\n",
       "      <td>Unknown</td>\n",
       "    </tr>\n",
       "    <tr>\n",
       "      <th>2</th>\n",
       "      <td>2</td>\n",
       "      <td>2018</td>\n",
       "      <td>North America</td>\n",
       "      <td>Surf</td>\n",
       "      <td>M</td>\n",
       "      <td>48</td>\n",
       "      <td>N</td>\n",
       "      <td>07h45</td>\n",
       "      <td>Unknown</td>\n",
       "    </tr>\n",
       "    <tr>\n",
       "      <th>3</th>\n",
       "      <td>3</td>\n",
       "      <td>2018</td>\n",
       "      <td>Oceania</td>\n",
       "      <td>Surf</td>\n",
       "      <td>M</td>\n",
       "      <td>Unknown</td>\n",
       "      <td>N</td>\n",
       "      <td>NaN</td>\n",
       "      <td>Unknown</td>\n",
       "    </tr>\n",
       "    <tr>\n",
       "      <th>4</th>\n",
       "      <td>4</td>\n",
       "      <td>2018</td>\n",
       "      <td>North America</td>\n",
       "      <td>Diving</td>\n",
       "      <td>M</td>\n",
       "      <td>Unknown</td>\n",
       "      <td>N</td>\n",
       "      <td>NaN</td>\n",
       "      <td>Tiger</td>\n",
       "    </tr>\n",
       "    <tr>\n",
       "      <th>...</th>\n",
       "      <td>...</td>\n",
       "      <td>...</td>\n",
       "      <td>...</td>\n",
       "      <td>...</td>\n",
       "      <td>...</td>\n",
       "      <td>...</td>\n",
       "      <td>...</td>\n",
       "      <td>...</td>\n",
       "      <td>...</td>\n",
       "    </tr>\n",
       "    <tr>\n",
       "      <th>6225</th>\n",
       "      <td>6298</td>\n",
       "      <td>Unknown</td>\n",
       "      <td>Oceania</td>\n",
       "      <td>Diving</td>\n",
       "      <td>M</td>\n",
       "      <td>Unknown</td>\n",
       "      <td>Y</td>\n",
       "      <td>NaN</td>\n",
       "      <td>Unknown</td>\n",
       "    </tr>\n",
       "    <tr>\n",
       "      <th>6226</th>\n",
       "      <td>6299</td>\n",
       "      <td>Unknown</td>\n",
       "      <td>North America</td>\n",
       "      <td>Bathing</td>\n",
       "      <td>M</td>\n",
       "      <td>Unknown</td>\n",
       "      <td>Y</td>\n",
       "      <td>NaN</td>\n",
       "      <td>Unknown</td>\n",
       "    </tr>\n",
       "    <tr>\n",
       "      <th>6227</th>\n",
       "      <td>6300</td>\n",
       "      <td>Unknown</td>\n",
       "      <td>North America</td>\n",
       "      <td>Unknown</td>\n",
       "      <td>M</td>\n",
       "      <td>Unknown</td>\n",
       "      <td>Y</td>\n",
       "      <td>NaN</td>\n",
       "      <td>Unknown</td>\n",
       "    </tr>\n",
       "    <tr>\n",
       "      <th>6228</th>\n",
       "      <td>6301</td>\n",
       "      <td>Unknown</td>\n",
       "      <td>Unknown</td>\n",
       "      <td>Bathing</td>\n",
       "      <td>M</td>\n",
       "      <td>15</td>\n",
       "      <td>Y</td>\n",
       "      <td>NaN</td>\n",
       "      <td>Unknown</td>\n",
       "    </tr>\n",
       "    <tr>\n",
       "      <th>6229</th>\n",
       "      <td>6302</td>\n",
       "      <td>Unknown</td>\n",
       "      <td>Unknown</td>\n",
       "      <td>Unknown</td>\n",
       "      <td>Unknown</td>\n",
       "      <td>Unknown</td>\n",
       "      <td>UNKNOWN</td>\n",
       "      <td>NaN</td>\n",
       "      <td>Unknown</td>\n",
       "    </tr>\n",
       "  </tbody>\n",
       "</table>\n",
       "<p>6230 rows × 9 columns</p>\n",
       "</div>"
      ],
      "text/plain": [
       "      Unnamed: 0     Year      Continent Activity      Sex      Age  \\\n",
       "0              0     2018  North America    Other        F       57   \n",
       "1              1     2018  North America    Other        F       11   \n",
       "2              2     2018  North America     Surf        M       48   \n",
       "3              3     2018        Oceania     Surf        M  Unknown   \n",
       "4              4     2018  North America   Diving        M  Unknown   \n",
       "...          ...      ...            ...      ...      ...      ...   \n",
       "6225        6298  Unknown        Oceania   Diving        M  Unknown   \n",
       "6226        6299  Unknown  North America  Bathing        M  Unknown   \n",
       "6227        6300  Unknown  North America  Unknown        M  Unknown   \n",
       "6228        6301  Unknown        Unknown  Bathing        M       15   \n",
       "6229        6302  Unknown        Unknown  Unknown  Unknown  Unknown   \n",
       "\n",
       "     Fatal(Y/N)           Time  Species  \n",
       "0             N          18h00    White  \n",
       "1             N  14h00  -15h00  Unknown  \n",
       "2             N          07h45  Unknown  \n",
       "3             N            NaN  Unknown  \n",
       "4             N            NaN    Tiger  \n",
       "...         ...            ...      ...  \n",
       "6225          Y            NaN  Unknown  \n",
       "6226          Y            NaN  Unknown  \n",
       "6227          Y            NaN  Unknown  \n",
       "6228          Y            NaN  Unknown  \n",
       "6229    UNKNOWN            NaN  Unknown  \n",
       "\n",
       "[6230 rows x 9 columns]"
      ]
     },
     "execution_count": 6,
     "metadata": {},
     "output_type": "execute_result"
    }
   ],
   "source": [
    "df2"
   ]
  },
  {
   "cell_type": "markdown",
   "id": "30ee35d2",
   "metadata": {},
   "source": [
    "### H1: Most fatal shark attacks occur in men."
   ]
  },
  {
   "cell_type": "code",
   "execution_count": 7,
   "id": "d7f1944f",
   "metadata": {},
   "outputs": [],
   "source": [
    "# First of all, we remove the category Unknown.\n",
    "df2_age = df2[(df2[\"Fatal(Y/N)\"] != \"UNKNOWN\") & (df2[\"Sex\"] != \"Unknown\")]"
   ]
  },
  {
   "cell_type": "code",
   "execution_count": 79,
   "id": "9247e91e",
   "metadata": {
    "scrolled": true
   },
   "outputs": [
    {
     "data": {
      "text/plain": [
       "<AxesSubplot:xlabel='Fatal(Y/N)', ylabel='count'>"
      ]
     },
     "execution_count": 79,
     "metadata": {},
     "output_type": "execute_result"
    },
    {
     "data": {
      "image/png": "[encoded data removed]",
      "text/plain": [
       "<Figure size 1296x504 with 1 Axes>"
      ]
     },
     "metadata": {},
     "output_type": "display_data"
    }
   ],
   "source": [
    "#To prove our hypothesis we visualize the count of Fatal(Y/N) and Sex values.\n",
    "sns.countplot(data=df2_age, x=\"Fatal(Y/N)\", hue=\"Sex\", palette=\"Blues\")"
   ]
  },
  {
   "cell_type": "markdown",
   "id": "092a70bb",
   "metadata": {},
   "source": [
    "This graph shows a representation of the fatality of shark attacks (\"Fatal(Y/N\") dependindg on the sex (\"Sex\").After looking at the plot we can observe that most fatal attacks occur in men. \n",
    "This confirms our first hypothesis: \"Most fatal shark attacks occur in men.\""
   ]
  },
  {
   "cell_type": "markdown",
   "id": "41ff3cf5",
   "metadata": {},
   "source": [
    "### H2.  Most attacks occur in Oceania and South Africa on surfers."
   ]
  },
  {
   "cell_type": "code",
   "execution_count": 13,
   "id": "cd89b31c",
   "metadata": {},
   "outputs": [],
   "source": [
    "#We delete the Unknown values from df2.\n",
    "continent_activity = df2[(df2[\"Continent\"] != \"Unknown\") & (df2[\"Continent\"] != \"Unknown\")]"
   ]
  },
  {
   "cell_type": "code",
   "execution_count": 78,
   "id": "cf40afa6",
   "metadata": {},
   "outputs": [
    {
     "data": {
      "image/png": "[encoded data removed]",
      "text/plain": [
       "<Figure size 1296x504 with 1 Axes>"
      ]
     },
     "metadata": {},
     "output_type": "display_data"
    }
   ],
   "source": [
    "#We use sns.countplot to represent the attacks in each continent.\n",
    "sns.countplot(y=\"Continent\", data=continent_activity, palette=\"Blues\");"
   ]
  },
  {
   "cell_type": "markdown",
   "id": "52109f65",
   "metadata": {},
   "source": [
    "most of them occur in North America."
   ]
  },
  {
   "cell_type": "code",
   "execution_count": 75,
   "id": "c6aae8b1",
   "metadata": {},
   "outputs": [
    {
     "data": {
      "image/png": "[encoded data removed]",
      "text/plain": [
       "<Figure size 1296x504 with 1 Axes>"
      ]
     },
     "metadata": {},
     "output_type": "display_data"
    }
   ],
   "source": [
    "#We use sns.countplot to represent the attacks depending on the activity.\n",
    "sns.countplot(y=\"Activity\", data=continent_activity,palette=\"Blues\");"
   ]
  },
  {
   "cell_type": "markdown",
   "id": "357a5aee",
   "metadata": {},
   "source": [
    "This graph shows a representation shark attacks in each continent. As we can see, most of them occur in people that are bathing in the sea (swimming, paddeling, in the water up to the knees, floating in the sea...), followed by surfers."
   ]
  },
  {
   "cell_type": "code",
   "execution_count": 67,
   "id": "bc63324f",
   "metadata": {
    "scrolled": true
   },
   "outputs": [
    {
     "data": {
      "image/png": "[encoded data removed]",
      "text/plain": [
       "<Figure size 1296x504 with 1 Axes>"
      ]
     },
     "metadata": {},
     "output_type": "display_data"
    }
   ],
   "source": [
    "#We use \"groupby\" to represent the attacks dependind on the activities in each continent.\n",
    "continent_activity = df2[(df2[\"Continent\"] != \"Unknown\") & (df2[\"Activity\"] != \"Unknown\")]\n",
    "sns.set(rc={\"figure.figsize\": (18.,7.)})\n",
    "country_activity = continent_activity.groupby([\"Continent\", \"Activity\"])[\"Activity\"].count().unstack().plot(kind=\"bar\")\n",
    "plt.xticks(rotation=0);\n",
    "plt.show()"
   ]
  },
  {
   "cell_type": "markdown",
   "id": "92bbc65b",
   "metadata": {},
   "source": [
    "This graph represents shark attacks depending on the Activity and Continent. As it shows, most of the attacks occur in North America followed by Oceania. People that suffer these attacks are usually surfers. "
   ]
  },
  {
   "cell_type": "markdown",
   "id": "a973f568",
   "metadata": {},
   "source": [
    "## H3. Great white sharks are responsible for most of the attacks occurring in Oceania."
   ]
  },
  {
   "cell_type": "code",
   "execution_count": 68,
   "id": "59c60163",
   "metadata": {},
   "outputs": [
    {
     "data": {
      "text/plain": [
       "['White', 'Tiger', 'Bronze', 'Grey', 'Wobbegong']"
      ]
     },
     "execution_count": 68,
     "metadata": {},
     "output_type": "execute_result"
    }
   ],
   "source": [
    "# First of all, we need to specify that we only want to check the most common species in Oceania.\n",
    "# We specify n=5 (number of species) we want the graph to show.\n",
    "n = 5\n",
    "attacks_species = oceania_species['Species'].value_counts()[:n].index.tolist()\n",
    "tiburones"
   ]
  },
  {
   "cell_type": "code",
   "execution_count": 36,
   "id": "9730dda3",
   "metadata": {},
   "outputs": [],
   "source": [
    "oceania_species = df2[(df2[\"Continent\"] == \"Oceania\") & (df2[\"Species\"].isin(['White', 'Tiger', 'Bronze', 'Grey', 'Wobbegong']))]\n"
   ]
  },
  {
   "cell_type": "code",
   "execution_count": 38,
   "id": "9b7ad94b",
   "metadata": {},
   "outputs": [
    {
     "data": {
      "text/plain": [
       "array(['Grey', 'White', 'Wobbegong', 'Bronze', 'Tiger'], dtype=object)"
      ]
     },
     "execution_count": 38,
     "metadata": {},
     "output_type": "execute_result"
    }
   ],
   "source": [
    "#We check the unique values for \"Species\" that we have in \"oceania_species\".\n",
    "oceania_species.Species.unique()"
   ]
  },
  {
   "cell_type": "code",
   "execution_count": 76,
   "id": "450d05b0",
   "metadata": {},
   "outputs": [
    {
     "data": {
      "image/png": "[encoded data removed]",
      "text/plain": [
       "<Figure size 1296x504 with 1 Axes>"
      ]
     },
     "metadata": {},
     "output_type": "display_data"
    }
   ],
   "source": [
    "#We represent the five species responsible for most of the shark attacks in Oceania.\n",
    "sns.set(rc={\"figure.figsize\": (18.,7.)})\n",
    "sns.countplot(x=\"Species\", data = oceania_species, palette=\"Blues\")\n",
    "plt.show()"
   ]
  },
  {
   "cell_type": "markdown",
   "id": "95dd0f46",
   "metadata": {},
   "source": [
    "This graph represents shark attacks depending on the species and Continent. As it shows, most of the attacks occur in North America followed by Oceania. People that suffer these attacks are usualli surfing."
   ]
  }
 ],
 "metadata": {
  "kernelspec": {
   "display_name": "ironhack",
   "language": "python",
   "name": "ironhack"
  },
  "language_info": {
   "codemirror_mode": {
    "name": "ipython",
    "version": 3
   },
   "file_extension": ".py",
   "mimetype": "text/x-python",
   "name": "python",
   "nbconvert_exporter": "python",
   "pygments_lexer": "ipython3",
   "version": "3.8.5"
  }
 },
 "nbformat": 4,
 "nbformat_minor": 5
}
